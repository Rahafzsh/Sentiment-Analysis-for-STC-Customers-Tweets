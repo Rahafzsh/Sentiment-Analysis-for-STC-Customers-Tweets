{
 "cells": [
  {
   "cell_type": "markdown",
   "metadata": {},
   "source": [
    "#Labelling Rahaf rows"
   ]
  },
  {
   "cell_type": "code",
   "execution_count": 1,
   "metadata": {},
   "outputs": [],
   "source": [
    "import pandas as pd \n",
    "import numpy as np \n",
    "import tkinter as tk \n",
    "import os "
   ]
  },
  {
   "cell_type": "code",
   "execution_count": 2,
   "metadata": {},
   "outputs": [
    {
     "data": {
      "text/html": [
       "<div>\n",
       "<style scoped>\n",
       "    .dataframe tbody tr th:only-of-type {\n",
       "        vertical-align: middle;\n",
       "    }\n",
       "\n",
       "    .dataframe tbody tr th {\n",
       "        vertical-align: top;\n",
       "    }\n",
       "\n",
       "    .dataframe thead th {\n",
       "        text-align: right;\n",
       "    }\n",
       "</style>\n",
       "<table border=\"1\" class=\"dataframe\">\n",
       "  <thead>\n",
       "    <tr style=\"text-align: right;\">\n",
       "      <th></th>\n",
       "      <th>date</th>\n",
       "      <th>Tweet</th>\n",
       "      <th>Label</th>\n",
       "    </tr>\n",
       "  </thead>\n",
       "  <tbody>\n",
       "    <tr>\n",
       "      <th>0</th>\n",
       "      <td>2020-12-04 09:39:04</td>\n",
       "      <td>تقدر تطلبه ماي اس سي</td>\n",
       "      <td>0.0</td>\n",
       "    </tr>\n",
       "    <tr>\n",
       "      <th>1</th>\n",
       "      <td>2020-12-03 14:45:41</td>\n",
       "      <td>اطلب البطاقة ماي اس سي وهل رسوم اطلبها</td>\n",
       "      <td>0.0</td>\n",
       "    </tr>\n",
       "    <tr>\n",
       "      <th>2</th>\n",
       "      <td>2020-12-03 09:16:27</td>\n",
       "      <td>الرجاء تفعيل الاشتراك بتطبيق ماي اس سي و رقم ا...</td>\n",
       "      <td>0.0</td>\n",
       "    </tr>\n",
       "    <tr>\n",
       "      <th>3</th>\n",
       "      <td>2020-12-03 07:41:30</td>\n",
       "      <td>عندك تطبيق ماي اس سي جميل ترا وتعرفين خلاله شي</td>\n",
       "      <td>1.0</td>\n",
       "    </tr>\n",
       "    <tr>\n",
       "      <th>4</th>\n",
       "      <td>2020-12-02 23:27:45</td>\n",
       "      <td>السلام عليكم انا عندي شريحة بيانات توقفت فجاه ...</td>\n",
       "      <td>1.0</td>\n",
       "    </tr>\n",
       "    <tr>\n",
       "      <th>...</th>\n",
       "      <td>...</td>\n",
       "      <td>...</td>\n",
       "      <td>...</td>\n",
       "    </tr>\n",
       "    <tr>\n",
       "      <th>145</th>\n",
       "      <td>2020-10-23 16:37:40</td>\n",
       "      <td>السلام عليكم ماهي الخطوات اللي اسويها عشان اشت...</td>\n",
       "      <td>NaN</td>\n",
       "    </tr>\n",
       "    <tr>\n",
       "      <th>146</th>\n",
       "      <td>2020-10-22 16:19:18</td>\n",
       "      <td>عفواً أخوي ايش أوضح الخدمة ألتغت عندي ينخصم رص...</td>\n",
       "      <td>NaN</td>\n",
       "    </tr>\n",
       "    <tr>\n",
       "      <th>147</th>\n",
       "      <td>2020-10-21 21:22:35</td>\n",
       "      <td>ادخل ع ماي اس سي وشوف الاجهزه اللي يسمح بعمل ا...</td>\n",
       "      <td>NaN</td>\n",
       "    </tr>\n",
       "    <tr>\n",
       "      <th>148</th>\n",
       "      <td>2020-10-21 11:35:53</td>\n",
       "      <td>السلام عليكم اذا طلبت موقع ماي اس سي يطلع المو...</td>\n",
       "      <td>NaN</td>\n",
       "    </tr>\n",
       "    <tr>\n",
       "      <th>149</th>\n",
       "      <td>2020-10-21 11:33:47</td>\n",
       "      <td>السلام عليكم اذا دخلت ماي اس سي وابي اطلب جوال...</td>\n",
       "      <td>NaN</td>\n",
       "    </tr>\n",
       "  </tbody>\n",
       "</table>\n",
       "<p>150 rows × 3 columns</p>\n",
       "</div>"
      ],
      "text/plain": [
       "                    date                                              Tweet  \\\n",
       "0    2020-12-04 09:39:04                               تقدر تطلبه ماي اس سي   \n",
       "1    2020-12-03 14:45:41             اطلب البطاقة ماي اس سي وهل رسوم اطلبها   \n",
       "2    2020-12-03 09:16:27  الرجاء تفعيل الاشتراك بتطبيق ماي اس سي و رقم ا...   \n",
       "3    2020-12-03 07:41:30     عندك تطبيق ماي اس سي جميل ترا وتعرفين خلاله شي   \n",
       "4    2020-12-02 23:27:45  السلام عليكم انا عندي شريحة بيانات توقفت فجاه ...   \n",
       "..                   ...                                                ...   \n",
       "145  2020-10-23 16:37:40  السلام عليكم ماهي الخطوات اللي اسويها عشان اشت...   \n",
       "146  2020-10-22 16:19:18  عفواً أخوي ايش أوضح الخدمة ألتغت عندي ينخصم رص...   \n",
       "147  2020-10-21 21:22:35  ادخل ع ماي اس سي وشوف الاجهزه اللي يسمح بعمل ا...   \n",
       "148  2020-10-21 11:35:53  السلام عليكم اذا طلبت موقع ماي اس سي يطلع المو...   \n",
       "149  2020-10-21 11:33:47  السلام عليكم اذا دخلت ماي اس سي وابي اطلب جوال...   \n",
       "\n",
       "     Label  \n",
       "0      0.0  \n",
       "1      0.0  \n",
       "2      0.0  \n",
       "3      1.0  \n",
       "4      1.0  \n",
       "..     ...  \n",
       "145    NaN  \n",
       "146    NaN  \n",
       "147    NaN  \n",
       "148    NaN  \n",
       "149    NaN  \n",
       "\n",
       "[150 rows x 3 columns]"
      ]
     },
     "execution_count": 2,
     "metadata": {},
     "output_type": "execute_result"
    }
   ],
   "source": [
    "rahaf=pd.read_csv('rahaf_modified.csv')\n",
    "rahaf"
   ]
  },
  {
   "cell_type": "code",
   "execution_count": null,
   "metadata": {},
   "outputs": [],
   "source": [
    "rahaf.drop('Label', axis=1, inplace=True)"
   ]
  }
 ],
 "metadata": {
  "kernelspec": {
   "display_name": "Python 3",
   "language": "python",
   "name": "python3"
  },
  "language_info": {
   "codemirror_mode": {
    "name": "ipython",
    "version": 3
   },
   "file_extension": ".py",
   "mimetype": "text/x-python",
   "name": "python",
   "nbconvert_exporter": "python",
   "pygments_lexer": "ipython3",
   "version": "3.11.5"
  }
 },
 "nbformat": 4,
 "nbformat_minor": 2
}
