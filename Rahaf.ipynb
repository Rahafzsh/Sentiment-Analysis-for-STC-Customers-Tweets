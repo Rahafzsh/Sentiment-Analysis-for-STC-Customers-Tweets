{
 "cells": [
  {
   "cell_type": "markdown",
   "metadata": {},
   "source": [
    "#Labelling Rahaf rows"
   ]
  },
  {
   "cell_type": "code",
   "execution_count": 1,
   "metadata": {},
   "outputs": [],
   "source": [
    "import pandas as pd \n",
    "import numpy as np \n",
    "import tkinter as tk \n",
    "import os "
   ]
  },
  {
   "cell_type": "code",
   "execution_count": 2,
   "metadata": {},
   "outputs": [
    {
     "data": {
      "text/plain": [
       "'c:\\\\Users\\\\iraha\\\\OneDrive\\\\سطح المكتب\\\\AI Levels\\\\Senior Level 1\\\\Projects\\\\NLP Project\\\\Sentiment-Analysis-for-STC-Arabic-Tweets\\\\Sentiment-Analysis-for-STC-Arabic-Tweets'"
      ]
     },
     "execution_count": 2,
     "metadata": {},
     "output_type": "execute_result"
    }
   ],
   "source": [
    "pwd"
   ]
  },
  {
   "cell_type": "code",
   "execution_count": 3,
   "metadata": {},
   "outputs": [
    {
     "data": {
      "text/plain": [
       "'c:\\\\Users\\\\iraha\\\\OneDrive\\\\سطح المكتب\\\\AI Levels\\\\Senior Level 1\\\\Projects\\\\NLP Project\\\\Sentiment-Analysis-for-STC-Arabic-Tweets\\\\Sentiment-Analysis-for-STC-Arabic-Tweets'"
      ]
     },
     "execution_count": 3,
     "metadata": {},
     "output_type": "execute_result"
    }
   ],
   "source": [
    "os.getcwd()"
   ]
  },
  {
   "cell_type": "code",
   "execution_count": 4,
   "metadata": {},
   "outputs": [],
   "source": [
    "#Rahafzsh/Sentiment-Analysis-for-STC-Arabic-Tweets/Splitted Datasets/rahaf_data.csv"
   ]
  },
  {
   "cell_type": "code",
   "execution_count": 5,
   "metadata": {},
   "outputs": [
    {
     "data": {
      "text/html": [
       "<div>\n",
       "<style scoped>\n",
       "    .dataframe tbody tr th:only-of-type {\n",
       "        vertical-align: middle;\n",
       "    }\n",
       "\n",
       "    .dataframe tbody tr th {\n",
       "        vertical-align: top;\n",
       "    }\n",
       "\n",
       "    .dataframe thead th {\n",
       "        text-align: right;\n",
       "    }\n",
       "</style>\n",
       "<table border=\"1\" class=\"dataframe\">\n",
       "  <thead>\n",
       "    <tr style=\"text-align: right;\">\n",
       "      <th></th>\n",
       "      <th>date</th>\n",
       "      <th>Tweet</th>\n",
       "      <th>Label</th>\n",
       "    </tr>\n",
       "  </thead>\n",
       "  <tbody>\n",
       "    <tr>\n",
       "      <th>0</th>\n",
       "      <td>2020-12-04 09:39:04</td>\n",
       "      <td>تقدر تطلبه ماي اس سي</td>\n",
       "      <td>NaN</td>\n",
       "    </tr>\n",
       "    <tr>\n",
       "      <th>1</th>\n",
       "      <td>2020-12-03 14:45:41</td>\n",
       "      <td>اطلب البطاقة ماي اس سي وهل رسوم اطلبها</td>\n",
       "      <td>NaN</td>\n",
       "    </tr>\n",
       "    <tr>\n",
       "      <th>2</th>\n",
       "      <td>2020-12-03 09:16:27</td>\n",
       "      <td>الرجاء تفعيل الاشتراك بتطبيق ماي اس سي و رقم ا...</td>\n",
       "      <td>NaN</td>\n",
       "    </tr>\n",
       "    <tr>\n",
       "      <th>3</th>\n",
       "      <td>2020-12-03 07:41:30</td>\n",
       "      <td>عندك تطبيق ماي اس سي جميل ترا وتعرفين خلاله شي</td>\n",
       "      <td>NaN</td>\n",
       "    </tr>\n",
       "    <tr>\n",
       "      <th>4</th>\n",
       "      <td>2020-12-02 23:27:45</td>\n",
       "      <td>السلام عليكم انا عندي شريحة بيانات توقفت فجاه ...</td>\n",
       "      <td>NaN</td>\n",
       "    </tr>\n",
       "    <tr>\n",
       "      <th>...</th>\n",
       "      <td>...</td>\n",
       "      <td>...</td>\n",
       "      <td>...</td>\n",
       "    </tr>\n",
       "    <tr>\n",
       "      <th>145</th>\n",
       "      <td>2020-10-23 16:37:40</td>\n",
       "      <td>السلام عليكم ماهي الخطوات اللي اسويها عشان اشت...</td>\n",
       "      <td>NaN</td>\n",
       "    </tr>\n",
       "    <tr>\n",
       "      <th>146</th>\n",
       "      <td>2020-10-22 16:19:18</td>\n",
       "      <td>عفواً أخوي ايش أوضح الخدمة ألتغت عندي ينخصم رص...</td>\n",
       "      <td>NaN</td>\n",
       "    </tr>\n",
       "    <tr>\n",
       "      <th>147</th>\n",
       "      <td>2020-10-21 21:22:35</td>\n",
       "      <td>ادخل ع ماي اس سي وشوف الاجهزه اللي يسمح بعمل ا...</td>\n",
       "      <td>NaN</td>\n",
       "    </tr>\n",
       "    <tr>\n",
       "      <th>148</th>\n",
       "      <td>2020-10-21 11:35:53</td>\n",
       "      <td>السلام عليكم اذا طلبت موقع ماي اس سي يطلع المو...</td>\n",
       "      <td>NaN</td>\n",
       "    </tr>\n",
       "    <tr>\n",
       "      <th>149</th>\n",
       "      <td>2020-10-21 11:33:47</td>\n",
       "      <td>السلام عليكم اذا دخلت ماي اس سي وابي اطلب جوال...</td>\n",
       "      <td>NaN</td>\n",
       "    </tr>\n",
       "  </tbody>\n",
       "</table>\n",
       "<p>150 rows × 3 columns</p>\n",
       "</div>"
      ],
      "text/plain": [
       "                    date                                              Tweet  \\\n",
       "0    2020-12-04 09:39:04                               تقدر تطلبه ماي اس سي   \n",
       "1    2020-12-03 14:45:41             اطلب البطاقة ماي اس سي وهل رسوم اطلبها   \n",
       "2    2020-12-03 09:16:27  الرجاء تفعيل الاشتراك بتطبيق ماي اس سي و رقم ا...   \n",
       "3    2020-12-03 07:41:30     عندك تطبيق ماي اس سي جميل ترا وتعرفين خلاله شي   \n",
       "4    2020-12-02 23:27:45  السلام عليكم انا عندي شريحة بيانات توقفت فجاه ...   \n",
       "..                   ...                                                ...   \n",
       "145  2020-10-23 16:37:40  السلام عليكم ماهي الخطوات اللي اسويها عشان اشت...   \n",
       "146  2020-10-22 16:19:18  عفواً أخوي ايش أوضح الخدمة ألتغت عندي ينخصم رص...   \n",
       "147  2020-10-21 21:22:35  ادخل ع ماي اس سي وشوف الاجهزه اللي يسمح بعمل ا...   \n",
       "148  2020-10-21 11:35:53  السلام عليكم اذا طلبت موقع ماي اس سي يطلع المو...   \n",
       "149  2020-10-21 11:33:47  السلام عليكم اذا دخلت ماي اس سي وابي اطلب جوال...   \n",
       "\n",
       "     Label  \n",
       "0      NaN  \n",
       "1      NaN  \n",
       "2      NaN  \n",
       "3      NaN  \n",
       "4      NaN  \n",
       "..     ...  \n",
       "145    NaN  \n",
       "146    NaN  \n",
       "147    NaN  \n",
       "148    NaN  \n",
       "149    NaN  \n",
       "\n",
       "[150 rows x 3 columns]"
      ]
     },
     "execution_count": 5,
     "metadata": {},
     "output_type": "execute_result"
    }
   ],
   "source": [
    "rahaf=pd.read_csv('Splitted Datasets\\\\rahaf_data.csv')\n",
    "rahaf"
   ]
  },
  {
   "cell_type": "code",
   "execution_count": 6,
   "metadata": {},
   "outputs": [],
   "source": [
    "from tkinter import *\n",
    "\n",
    "labels = []\n",
    "\n",
    "window= Tk()\n",
    "window.title(\"Sentiment Analysis\")\n",
    "window.geometry(\"700x500\")\n",
    "for index, row in rahaf.head(150).iterrows():\n",
    "    L1= Label(window, text=\"Tweet #{}: {}\".format(index, row['Tweet']), font=(\"Arial\",14))\n",
    "    L1.grid(row=0,column=0, padx=5, pady=10)\n",
    "\n",
    "    \n",
    "\n",
    "    data=IntVar()\n",
    "\n",
    "    L1= Label(window, text=\"Enter label (1 for positive, 0 for neutral, -1 for negative):\", font=(\"Arial\",14))\n",
    "    L1.grid(row=1,column=0, padx=5, pady=10)\n",
    "\n",
    "    t1=Entry(window, textvariable=data, font=(\"Arial\",14))\n",
    "    t1.grid(row=1,column=1)\n",
    "\n",
    "    def myfunc():\n",
    "        valid_input = False\n",
    "        while not valid_input:\n",
    "            if int(data.get()) in ['1', '0', '-1']:\n",
    "                labels.append(int(data.get()))  # Append the valid label to the list of labels\n",
    "                valid_input = True\n",
    "            else:\n",
    "                print(\"Invalid input. Please enter a valid label (1, 0, or -1).\")\n",
    "\n",
    "\n",
    "    b1=Button(window,command=myfunc, text=\"Save\")\n",
    "    b1.grid(row=2,column=1)\n",
    "    window.mainloop()\n",
    "\n",
    "\n",
    "rahaf['label'] = labels"
   ]
  },
  {
   "cell_type": "code",
   "execution_count": null,
   "metadata": {},
   "outputs": [
    {
     "ename": "NameError",
     "evalue": "name 'rahaf' is not defined",
     "output_type": "error",
     "traceback": [
      "\u001b[1;31m---------------------------------------------------------------------------\u001b[0m",
      "\u001b[1;31mNameError\u001b[0m                                 Traceback (most recent call last)",
      "\u001b[1;32mc:\\Users\\iraha\\OneDrive\\سطح المكتب\\AI Levels\\Senior Level 1\\Projects\\NLP Project\\Sentiment-Analysis-for-STC-Arabic-Tweets\\Sentiment-Analysis-for-STC-Arabic-Tweets\\Rahaf.ipynb Cell 8\u001b[0m line \u001b[0;36m4\n\u001b[0;32m      <a href='vscode-notebook-cell:/c%3A/Users/iraha/OneDrive/%D8%B3%D8%B7%D8%AD%20%D8%A7%D9%84%D9%85%D9%83%D8%AA%D8%A8/AI%20Levels/Senior%20Level%201/Projects/NLP%20Project/Sentiment-Analysis-for-STC-Arabic-Tweets/Sentiment-Analysis-for-STC-Arabic-Tweets/Rahaf.ipynb#X10sZmlsZQ%3D%3D?line=0'>1</a>\u001b[0m labels \u001b[39m=\u001b[39m []  \u001b[39m# Create an empty list to store labels\u001b[39;00m\n\u001b[0;32m      <a href='vscode-notebook-cell:/c%3A/Users/iraha/OneDrive/%D8%B3%D8%B7%D8%AD%20%D8%A7%D9%84%D9%85%D9%83%D8%AA%D8%A8/AI%20Levels/Senior%20Level%201/Projects/NLP%20Project/Sentiment-Analysis-for-STC-Arabic-Tweets/Sentiment-Analysis-for-STC-Arabic-Tweets/Rahaf.ipynb#X10sZmlsZQ%3D%3D?line=2'>3</a>\u001b[0m \u001b[39m# Loop through the first 150 rows for labeling\u001b[39;00m\n\u001b[1;32m----> <a href='vscode-notebook-cell:/c%3A/Users/iraha/OneDrive/%D8%B3%D8%B7%D8%AD%20%D8%A7%D9%84%D9%85%D9%83%D8%AA%D8%A8/AI%20Levels/Senior%20Level%201/Projects/NLP%20Project/Sentiment-Analysis-for-STC-Arabic-Tweets/Sentiment-Analysis-for-STC-Arabic-Tweets/Rahaf.ipynb#X10sZmlsZQ%3D%3D?line=3'>4</a>\u001b[0m \u001b[39mfor\u001b[39;00m index, row \u001b[39min\u001b[39;00m rahaf\u001b[39m.\u001b[39mhead(\u001b[39m150\u001b[39m)\u001b[39m.\u001b[39miterrows():\n\u001b[0;32m      <a href='vscode-notebook-cell:/c%3A/Users/iraha/OneDrive/%D8%B3%D8%B7%D8%AD%20%D8%A7%D9%84%D9%85%D9%83%D8%AA%D8%A8/AI%20Levels/Senior%20Level%201/Projects/NLP%20Project/Sentiment-Analysis-for-STC-Arabic-Tweets/Sentiment-Analysis-for-STC-Arabic-Tweets/Rahaf.ipynb#X10sZmlsZQ%3D%3D?line=4'>5</a>\u001b[0m     \u001b[39mprint\u001b[39m(row[\u001b[39m'\u001b[39m\u001b[39mTweet\u001b[39m\u001b[39m'\u001b[39m])  \u001b[39m# Display the tweet text for labeling\u001b[39;00m\n\u001b[0;32m      <a href='vscode-notebook-cell:/c%3A/Users/iraha/OneDrive/%D8%B3%D8%B7%D8%AD%20%D8%A7%D9%84%D9%85%D9%83%D8%AA%D8%A8/AI%20Levels/Senior%20Level%201/Projects/NLP%20Project/Sentiment-Analysis-for-STC-Arabic-Tweets/Sentiment-Analysis-for-STC-Arabic-Tweets/Rahaf.ipynb#X10sZmlsZQ%3D%3D?line=6'>7</a>\u001b[0m     valid_input \u001b[39m=\u001b[39m \u001b[39mFalse\u001b[39;00m\n",
      "\u001b[1;31mNameError\u001b[0m: name 'rahaf' is not defined"
     ]
    }
   ],
   "source": [
    "labels = []  # Create an empty list to store labels\n",
    "\n",
    "# Loop through the first 150 rows for labeling\n",
    "for index, row in rahaf.head(150).iterrows():\n",
    "    print(row['Tweet'])  # Display the tweet text for labeling\n",
    "\n",
    "    valid_input = False\n",
    "    while not valid_input:\n",
    "        label = input(\"Enter label (1 for positive, 0 for neutral, -1 for negative): \")\n",
    "\n",
    "        if label in ['1', '0', '-1']:\n",
    "            labels.append(int(label))  # Append the valid label to the list of labels\n",
    "            valid_input = True\n",
    "        else:\n",
    "            print(\"Invalid input. Please enter a valid label (1, 0, or -1).\")\n",
    "\n",
    "# Add the labels to the DataFrame\n",
    "rahaf['label'] = labels\n"
   ]
  },
  {
   "cell_type": "code",
   "execution_count": null,
   "metadata": {},
   "outputs": [],
   "source": [
    "rahaf.drop('Label', axis=1, inplace=True)"
   ]
  }
 ],
 "metadata": {
  "kernelspec": {
   "display_name": "Python 3",
   "language": "python",
   "name": "python3"
  },
  "language_info": {
   "codemirror_mode": {
    "name": "ipython",
    "version": 3
   },
   "file_extension": ".py",
   "mimetype": "text/x-python",
   "name": "python",
   "nbconvert_exporter": "python",
   "pygments_lexer": "ipython3",
   "version": "3.11.5"
  }
 },
 "nbformat": 4,
 "nbformat_minor": 2
}
