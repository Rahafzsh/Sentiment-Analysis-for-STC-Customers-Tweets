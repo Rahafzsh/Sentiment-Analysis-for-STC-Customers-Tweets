{
 "cells": [
  {
   "cell_type": "markdown",
   "metadata": {},
   "source": [
    "#Labelling Rahaf rows"
   ]
  },
  {
   "cell_type": "code",
   "execution_count": 1,
   "metadata": {},
   "outputs": [],
   "source": [
    "import pandas as pd \n",
    "import numpy as np \n",
    "import tkinter as tk \n",
    "import os "
   ]
  },
  {
   "cell_type": "code",
   "execution_count": 2,
   "metadata": {},
   "outputs": [
    {
     "data": {
      "text/plain": [
       "'c:\\\\Users\\\\iraha\\\\OneDrive\\\\سطح المكتب\\\\AI Levels\\\\Senior Level 1\\\\Projects\\\\NLP Project\\\\Sentiment-Analysis-for-STC-Arabic-Tweets\\\\Sentiment-Analysis-for-STC-Arabic-Tweets'"
      ]
     },
     "execution_count": 2,
     "metadata": {},
     "output_type": "execute_result"
    }
   ],
   "source": [
    "pwd"
   ]
  },
  {
   "cell_type": "code",
   "execution_count": 3,
   "metadata": {},
   "outputs": [
    {
     "data": {
      "text/plain": [
       "'c:\\\\Users\\\\iraha\\\\OneDrive\\\\سطح المكتب\\\\AI Levels\\\\Senior Level 1\\\\Projects\\\\NLP Project\\\\Sentiment-Analysis-for-STC-Arabic-Tweets\\\\Sentiment-Analysis-for-STC-Arabic-Tweets'"
      ]
     },
     "execution_count": 3,
     "metadata": {},
     "output_type": "execute_result"
    }
   ],
   "source": [
    "os.getcwd()"
   ]
  },
  {
   "cell_type": "code",
   "execution_count": 4,
   "metadata": {},
   "outputs": [],
   "source": [
    "#Rahafzsh/Sentiment-Analysis-for-STC-Arabic-Tweets/Splitted Datasets/rahaf_data.csv"
   ]
  },
  {
   "cell_type": "code",
   "execution_count": 5,
   "metadata": {},
   "outputs": [
    {
     "data": {
      "text/html": [
       "<div>\n",
       "<style scoped>\n",
       "    .dataframe tbody tr th:only-of-type {\n",
       "        vertical-align: middle;\n",
       "    }\n",
       "\n",
       "    .dataframe tbody tr th {\n",
       "        vertical-align: top;\n",
       "    }\n",
       "\n",
       "    .dataframe thead th {\n",
       "        text-align: right;\n",
       "    }\n",
       "</style>\n",
       "<table border=\"1\" class=\"dataframe\">\n",
       "  <thead>\n",
       "    <tr style=\"text-align: right;\">\n",
       "      <th></th>\n",
       "      <th>date</th>\n",
       "      <th>Tweet</th>\n",
       "      <th>Label</th>\n",
       "    </tr>\n",
       "  </thead>\n",
       "  <tbody>\n",
       "    <tr>\n",
       "      <th>0</th>\n",
       "      <td>2020-12-04 09:39:04</td>\n",
       "      <td>تقدر تطلبه ماي اس سي</td>\n",
       "      <td>NaN</td>\n",
       "    </tr>\n",
       "    <tr>\n",
       "      <th>1</th>\n",
       "      <td>2020-12-03 14:45:41</td>\n",
       "      <td>اطلب البطاقة ماي اس سي وهل رسوم اطلبها</td>\n",
       "      <td>NaN</td>\n",
       "    </tr>\n",
       "    <tr>\n",
       "      <th>2</th>\n",
       "      <td>2020-12-03 09:16:27</td>\n",
       "      <td>الرجاء تفعيل الاشتراك بتطبيق ماي اس سي و رقم ا...</td>\n",
       "      <td>NaN</td>\n",
       "    </tr>\n",
       "    <tr>\n",
       "      <th>3</th>\n",
       "      <td>2020-12-03 07:41:30</td>\n",
       "      <td>عندك تطبيق ماي اس سي جميل ترا وتعرفين خلاله شي</td>\n",
       "      <td>NaN</td>\n",
       "    </tr>\n",
       "    <tr>\n",
       "      <th>4</th>\n",
       "      <td>2020-12-02 23:27:45</td>\n",
       "      <td>السلام عليكم انا عندي شريحة بيانات توقفت فجاه ...</td>\n",
       "      <td>NaN</td>\n",
       "    </tr>\n",
       "    <tr>\n",
       "      <th>...</th>\n",
       "      <td>...</td>\n",
       "      <td>...</td>\n",
       "      <td>...</td>\n",
       "    </tr>\n",
       "    <tr>\n",
       "      <th>145</th>\n",
       "      <td>2020-10-23 16:37:40</td>\n",
       "      <td>السلام عليكم ماهي الخطوات اللي اسويها عشان اشت...</td>\n",
       "      <td>NaN</td>\n",
       "    </tr>\n",
       "    <tr>\n",
       "      <th>146</th>\n",
       "      <td>2020-10-22 16:19:18</td>\n",
       "      <td>عفواً أخوي ايش أوضح الخدمة ألتغت عندي ينخصم رص...</td>\n",
       "      <td>NaN</td>\n",
       "    </tr>\n",
       "    <tr>\n",
       "      <th>147</th>\n",
       "      <td>2020-10-21 21:22:35</td>\n",
       "      <td>ادخل ع ماي اس سي وشوف الاجهزه اللي يسمح بعمل ا...</td>\n",
       "      <td>NaN</td>\n",
       "    </tr>\n",
       "    <tr>\n",
       "      <th>148</th>\n",
       "      <td>2020-10-21 11:35:53</td>\n",
       "      <td>السلام عليكم اذا طلبت موقع ماي اس سي يطلع المو...</td>\n",
       "      <td>NaN</td>\n",
       "    </tr>\n",
       "    <tr>\n",
       "      <th>149</th>\n",
       "      <td>2020-10-21 11:33:47</td>\n",
       "      <td>السلام عليكم اذا دخلت ماي اس سي وابي اطلب جوال...</td>\n",
       "      <td>NaN</td>\n",
       "    </tr>\n",
       "  </tbody>\n",
       "</table>\n",
       "<p>150 rows × 3 columns</p>\n",
       "</div>"
      ],
      "text/plain": [
       "                    date                                              Tweet  \\\n",
       "0    2020-12-04 09:39:04                               تقدر تطلبه ماي اس سي   \n",
       "1    2020-12-03 14:45:41             اطلب البطاقة ماي اس سي وهل رسوم اطلبها   \n",
       "2    2020-12-03 09:16:27  الرجاء تفعيل الاشتراك بتطبيق ماي اس سي و رقم ا...   \n",
       "3    2020-12-03 07:41:30     عندك تطبيق ماي اس سي جميل ترا وتعرفين خلاله شي   \n",
       "4    2020-12-02 23:27:45  السلام عليكم انا عندي شريحة بيانات توقفت فجاه ...   \n",
       "..                   ...                                                ...   \n",
       "145  2020-10-23 16:37:40  السلام عليكم ماهي الخطوات اللي اسويها عشان اشت...   \n",
       "146  2020-10-22 16:19:18  عفواً أخوي ايش أوضح الخدمة ألتغت عندي ينخصم رص...   \n",
       "147  2020-10-21 21:22:35  ادخل ع ماي اس سي وشوف الاجهزه اللي يسمح بعمل ا...   \n",
       "148  2020-10-21 11:35:53  السلام عليكم اذا طلبت موقع ماي اس سي يطلع المو...   \n",
       "149  2020-10-21 11:33:47  السلام عليكم اذا دخلت ماي اس سي وابي اطلب جوال...   \n",
       "\n",
       "     Label  \n",
       "0      NaN  \n",
       "1      NaN  \n",
       "2      NaN  \n",
       "3      NaN  \n",
       "4      NaN  \n",
       "..     ...  \n",
       "145    NaN  \n",
       "146    NaN  \n",
       "147    NaN  \n",
       "148    NaN  \n",
       "149    NaN  \n",
       "\n",
       "[150 rows x 3 columns]"
      ]
     },
     "execution_count": 5,
     "metadata": {},
     "output_type": "execute_result"
    }
   ],
   "source": [
    "rahaf=pd.read_csv('Splitted Datasets\\\\rahaf_data.csv')\n",
    "rahaf"
   ]
  },
  {
   "cell_type": "code",
   "execution_count": 6,
   "metadata": {},
   "outputs": [
    {
     "name": "stdout",
     "output_type": "stream",
     "text": [
      "تقدر تطلبه ماي اس سي\n",
      "اطلب البطاقة ماي اس سي وهل رسوم اطلبها\n",
      "الرجاء تفعيل الاشتراك بتطبيق ماي اس سي و رقم المرجعي للاشتراك\n",
      "عندك تطبيق ماي اس سي جميل ترا وتعرفين خلاله شي\n",
      "السلام عليكم انا عندي شريحة بيانات توقفت فجاه مافيه نت ماستفدت شي تطبيق ماي اس سي واتصل علىً ماني قادر اكلم احد اشرح المشكلة ابي حل\n",
      "نزل ماي اس سي البلاستيشن نسخة السي دي اي شي بخصوص نسخة الديجيتال\n",
      "انقل شريحه بيانات ماي اس سي\n"
     ]
    },
    {
     "ename": "KeyboardInterrupt",
     "evalue": "Interrupted by user",
     "output_type": "error",
     "traceback": [
      "\u001b[1;31m---------------------------------------------------------------------------\u001b[0m",
      "\u001b[1;31mKeyboardInterrupt\u001b[0m                         Traceback (most recent call last)",
      "\u001b[1;32mc:\\Users\\iraha\\OneDrive\\سطح المكتب\\AI Levels\\Senior Level 1\\Projects\\NLP Project\\Sentiment-Analysis-for-STC-Arabic-Tweets\\Sentiment-Analysis-for-STC-Arabic-Tweets\\Rahaf.ipynb Cell 7\u001b[0m line \u001b[0;36m9\n\u001b[0;32m      <a href='vscode-notebook-cell:/c%3A/Users/iraha/OneDrive/%D8%B3%D8%B7%D8%AD%20%D8%A7%D9%84%D9%85%D9%83%D8%AA%D8%A8/AI%20Levels/Senior%20Level%201/Projects/NLP%20Project/Sentiment-Analysis-for-STC-Arabic-Tweets/Sentiment-Analysis-for-STC-Arabic-Tweets/Rahaf.ipynb#W6sZmlsZQ%3D%3D?line=6'>7</a>\u001b[0m valid_input \u001b[39m=\u001b[39m \u001b[39mFalse\u001b[39;00m\n\u001b[0;32m      <a href='vscode-notebook-cell:/c%3A/Users/iraha/OneDrive/%D8%B3%D8%B7%D8%AD%20%D8%A7%D9%84%D9%85%D9%83%D8%AA%D8%A8/AI%20Levels/Senior%20Level%201/Projects/NLP%20Project/Sentiment-Analysis-for-STC-Arabic-Tweets/Sentiment-Analysis-for-STC-Arabic-Tweets/Rahaf.ipynb#W6sZmlsZQ%3D%3D?line=7'>8</a>\u001b[0m \u001b[39mwhile\u001b[39;00m \u001b[39mnot\u001b[39;00m valid_input:\n\u001b[1;32m----> <a href='vscode-notebook-cell:/c%3A/Users/iraha/OneDrive/%D8%B3%D8%B7%D8%AD%20%D8%A7%D9%84%D9%85%D9%83%D8%AA%D8%A8/AI%20Levels/Senior%20Level%201/Projects/NLP%20Project/Sentiment-Analysis-for-STC-Arabic-Tweets/Sentiment-Analysis-for-STC-Arabic-Tweets/Rahaf.ipynb#W6sZmlsZQ%3D%3D?line=8'>9</a>\u001b[0m     label \u001b[39m=\u001b[39m \u001b[39minput\u001b[39m(\u001b[39m\"\u001b[39m\u001b[39mEnter label (1 for positive, 0 for neutral, -1 for negative): \u001b[39m\u001b[39m\"\u001b[39m)\n\u001b[0;32m     <a href='vscode-notebook-cell:/c%3A/Users/iraha/OneDrive/%D8%B3%D8%B7%D8%AD%20%D8%A7%D9%84%D9%85%D9%83%D8%AA%D8%A8/AI%20Levels/Senior%20Level%201/Projects/NLP%20Project/Sentiment-Analysis-for-STC-Arabic-Tweets/Sentiment-Analysis-for-STC-Arabic-Tweets/Rahaf.ipynb#W6sZmlsZQ%3D%3D?line=10'>11</a>\u001b[0m     \u001b[39mif\u001b[39;00m label \u001b[39min\u001b[39;00m [\u001b[39m'\u001b[39m\u001b[39m1\u001b[39m\u001b[39m'\u001b[39m, \u001b[39m'\u001b[39m\u001b[39m0\u001b[39m\u001b[39m'\u001b[39m, \u001b[39m'\u001b[39m\u001b[39m-1\u001b[39m\u001b[39m'\u001b[39m]:\n\u001b[0;32m     <a href='vscode-notebook-cell:/c%3A/Users/iraha/OneDrive/%D8%B3%D8%B7%D8%AD%20%D8%A7%D9%84%D9%85%D9%83%D8%AA%D8%A8/AI%20Levels/Senior%20Level%201/Projects/NLP%20Project/Sentiment-Analysis-for-STC-Arabic-Tweets/Sentiment-Analysis-for-STC-Arabic-Tweets/Rahaf.ipynb#W6sZmlsZQ%3D%3D?line=11'>12</a>\u001b[0m         labels\u001b[39m.\u001b[39mappend(\u001b[39mint\u001b[39m(label))  \u001b[39m# Append the valid label to the list of labels\u001b[39;00m\n",
      "File \u001b[1;32mc:\\Users\\iraha\\anaconda3\\Lib\\site-packages\\ipykernel\\kernelbase.py:1202\u001b[0m, in \u001b[0;36mKernel.raw_input\u001b[1;34m(self, prompt)\u001b[0m\n\u001b[0;32m   1200\u001b[0m     msg \u001b[39m=\u001b[39m \u001b[39m\"\u001b[39m\u001b[39mraw_input was called, but this frontend does not support input requests.\u001b[39m\u001b[39m\"\u001b[39m\n\u001b[0;32m   1201\u001b[0m     \u001b[39mraise\u001b[39;00m StdinNotImplementedError(msg)\n\u001b[1;32m-> 1202\u001b[0m \u001b[39mreturn\u001b[39;00m \u001b[39mself\u001b[39m\u001b[39m.\u001b[39m_input_request(\n\u001b[0;32m   1203\u001b[0m     \u001b[39mstr\u001b[39m(prompt),\n\u001b[0;32m   1204\u001b[0m     \u001b[39mself\u001b[39m\u001b[39m.\u001b[39m_parent_ident[\u001b[39m\"\u001b[39m\u001b[39mshell\u001b[39m\u001b[39m\"\u001b[39m],\n\u001b[0;32m   1205\u001b[0m     \u001b[39mself\u001b[39m\u001b[39m.\u001b[39mget_parent(\u001b[39m\"\u001b[39m\u001b[39mshell\u001b[39m\u001b[39m\"\u001b[39m),\n\u001b[0;32m   1206\u001b[0m     password\u001b[39m=\u001b[39m\u001b[39mFalse\u001b[39;00m,\n\u001b[0;32m   1207\u001b[0m )\n",
      "File \u001b[1;32mc:\\Users\\iraha\\anaconda3\\Lib\\site-packages\\ipykernel\\kernelbase.py:1245\u001b[0m, in \u001b[0;36mKernel._input_request\u001b[1;34m(self, prompt, ident, parent, password)\u001b[0m\n\u001b[0;32m   1242\u001b[0m \u001b[39mexcept\u001b[39;00m \u001b[39mKeyboardInterrupt\u001b[39;00m:\n\u001b[0;32m   1243\u001b[0m     \u001b[39m# re-raise KeyboardInterrupt, to truncate traceback\u001b[39;00m\n\u001b[0;32m   1244\u001b[0m     msg \u001b[39m=\u001b[39m \u001b[39m\"\u001b[39m\u001b[39mInterrupted by user\u001b[39m\u001b[39m\"\u001b[39m\n\u001b[1;32m-> 1245\u001b[0m     \u001b[39mraise\u001b[39;00m \u001b[39mKeyboardInterrupt\u001b[39;00m(msg) \u001b[39mfrom\u001b[39;00m \u001b[39mNone\u001b[39;00m\n\u001b[0;32m   1246\u001b[0m \u001b[39mexcept\u001b[39;00m \u001b[39mException\u001b[39;00m:\n\u001b[0;32m   1247\u001b[0m     \u001b[39mself\u001b[39m\u001b[39m.\u001b[39mlog\u001b[39m.\u001b[39mwarning(\u001b[39m\"\u001b[39m\u001b[39mInvalid Message:\u001b[39m\u001b[39m\"\u001b[39m, exc_info\u001b[39m=\u001b[39m\u001b[39mTrue\u001b[39;00m)\n",
      "\u001b[1;31mKeyboardInterrupt\u001b[0m: Interrupted by user"
     ]
    }
   ],
   "source": [
    "labels = []  # Create an empty list to store labels\n",
    "\n",
    "# Loop through the first 150 rows for labeling\n",
    "for index, row in rahaf.head(150).iterrows():\n",
    "    print(row['Tweet'])  # Display the tweet text for labeling\n",
    "\n",
    "    valid_input = False\n",
    "    while not valid_input:\n",
    "        label = input(\"Enter label (1 for positive, 0 for neutral, -1 for negative): \")\n",
    "\n",
    "        if label in ['1', '0', '-1']:\n",
    "            labels.append(int(label))  # Append the valid label to the list of labels\n",
    "            valid_input = True\n",
    "        else:\n",
    "            print(\"Invalid input. Please enter a valid label (1, 0, or -1).\")\n",
    "\n",
    "# Add the labels to the DataFrame\n",
    "rahaf['label'] = labels\n"
   ]
  },
  {
   "cell_type": "code",
   "execution_count": null,
   "metadata": {},
   "outputs": [],
   "source": [
    "razan.drop('Label', axis=1, inplace=True)"
   ]
  }
 ],
 "metadata": {
  "kernelspec": {
   "display_name": "Python 3",
   "language": "python",
   "name": "python3"
  },
  "language_info": {
   "codemirror_mode": {
    "name": "ipython",
    "version": 3
   },
   "file_extension": ".py",
   "mimetype": "text/x-python",
   "name": "python",
   "nbconvert_exporter": "python",
   "pygments_lexer": "ipython3",
   "version": "3.11.5"
  }
 },
 "nbformat": 4,
 "nbformat_minor": 2
}
