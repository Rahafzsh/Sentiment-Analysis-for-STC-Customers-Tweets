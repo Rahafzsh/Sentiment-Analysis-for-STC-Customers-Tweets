{
 "cells": [
  {
   "cell_type": "code",
   "execution_count": 2,
   "metadata": {},
   "outputs": [],
   "source": [
    "import pandas as pd"
   ]
  },
  {
   "cell_type": "code",
   "execution_count": 4,
   "metadata": {},
   "outputs": [],
   "source": [
    "pd.set_option('display.max_columns', None)\n",
    "pd.set_option('display.max_colwidth', 1)\n",
    "pd.set_option('display.max_rows', None)"
   ]
  },
  {
   "cell_type": "code",
   "execution_count": 3,
   "metadata": {},
   "outputs": [],
   "source": [
    "df = pd.read_csv('stc_tweets_after_final_cleaning_ver5.csv')"
   ]
  },
  {
   "cell_type": "code",
   "execution_count": 5,
   "metadata": {},
   "outputs": [
    {
     "data": {
      "text/html": [
       "<div>\n",
       "<style scoped>\n",
       "    .dataframe tbody tr th:only-of-type {\n",
       "        vertical-align: middle;\n",
       "    }\n",
       "\n",
       "    .dataframe tbody tr th {\n",
       "        vertical-align: top;\n",
       "    }\n",
       "\n",
       "    .dataframe thead th {\n",
       "        text-align: right;\n",
       "    }\n",
       "</style>\n",
       "<table border=\"1\" class=\"dataframe\">\n",
       "  <thead>\n",
       "    <tr style=\"text-align: right;\">\n",
       "      <th></th>\n",
       "      <th>Unnamed: 0</th>\n",
       "      <th>id</th>\n",
       "      <th>created_at</th>\n",
       "      <th>date</th>\n",
       "      <th>user_id</th>\n",
       "      <th>name</th>\n",
       "      <th>retweet</th>\n",
       "      <th>nlikes</th>\n",
       "      <th>nreplies</th>\n",
       "      <th>nretweets</th>\n",
       "      <th>tweet4</th>\n",
       "    </tr>\n",
       "  </thead>\n",
       "  <tbody>\n",
       "    <tr>\n",
       "      <th>0</th>\n",
       "      <td>0</td>\n",
       "      <td>1353913978834051073</td>\n",
       "      <td>1.611633e+12</td>\n",
       "      <td>2021-01-26 03:53:41</td>\n",
       "      <td>177757484</td>\n",
       "      <td>NOHY✨ البراقة</td>\n",
       "      <td>False</td>\n",
       "      <td>0</td>\n",
       "      <td>1</td>\n",
       "      <td>0</td>\n",
       "      <td>سحبتو مني مبلغ لشحن رصيد طريق ماي اس سي تواصلت معاهم قالو تتواصلي البنك وانا ابغى المبلغ يرجع</td>\n",
       "    </tr>\n",
       "    <tr>\n",
       "      <th>1</th>\n",
       "      <td>1</td>\n",
       "      <td>1353709940901371904</td>\n",
       "      <td>1.611585e+12</td>\n",
       "      <td>2021-01-25 14:22:55</td>\n",
       "      <td>1280687902364745731</td>\n",
       "      <td>B..</td>\n",
       "      <td>False</td>\n",
       "      <td>2</td>\n",
       "      <td>2</td>\n",
       "      <td>0</td>\n",
       "      <td>اذا رقمك شغال وعندك نسخه واتس اب السحابه بالواتس يقدر يسترحع المحادثات عشان النسخه-يقدر يشوف الارقام طريق ماي اس سي قعدتي فالافضل انه مو باسمه ونزله تطالبين برقم انه يصير تحت اسمك قبل يملكه شخص اخر ودايما الشي الخاص فيك يكون باسمك افضل</td>\n",
       "    </tr>\n",
       "    <tr>\n",
       "      <th>2</th>\n",
       "      <td>2</td>\n",
       "      <td>1353470988319653888</td>\n",
       "      <td>1.611528e+12</td>\n",
       "      <td>2021-01-24 22:33:24</td>\n",
       "      <td>2569667586</td>\n",
       "      <td>A&amp;....</td>\n",
       "      <td>False</td>\n",
       "      <td>0</td>\n",
       "      <td>1</td>\n",
       "      <td>0</td>\n",
       "      <td>اشتراك stc للمنصه روح ل stc واسالهم طريقته الاتّصالات السّعوديّة STC ريالاً سعوديّاًثلاثة أشهريتمّ الاشتراك الحزمة عبر تطبيق ماي اس سي</td>\n",
       "    </tr>\n",
       "    <tr>\n",
       "      <th>3</th>\n",
       "      <td>3</td>\n",
       "      <td>1353426146621235201</td>\n",
       "      <td>1.611517e+12</td>\n",
       "      <td>2021-01-24 19:35:13</td>\n",
       "      <td>584766522</td>\n",
       "      <td>a7sas asmar</td>\n",
       "      <td>False</td>\n",
       "      <td>0</td>\n",
       "      <td>1</td>\n",
       "      <td>0</td>\n",
       "      <td>شوي وأحد يمنشني الله يسعدكم شكلي الليله مداوم موظف اس سي ارد العملاء 😂😂 حملي ماي اس سي وشوفي وش المشكله ممكن تبين معك</td>\n",
       "    </tr>\n",
       "    <tr>\n",
       "      <th>4</th>\n",
       "      <td>4</td>\n",
       "      <td>1353417040816713729</td>\n",
       "      <td>1.611515e+12</td>\n",
       "      <td>2021-01-24 18:59:02</td>\n",
       "      <td>408119559</td>\n",
       "      <td>Rehab. 👩🏻‍💻</td>\n",
       "      <td>False</td>\n",
       "      <td>0</td>\n",
       "      <td>1</td>\n",
       "      <td>0</td>\n",
       "      <td>اقدر اطلع بدل فاقد تطبيق ماي اس سي</td>\n",
       "    </tr>\n",
       "  </tbody>\n",
       "</table>\n",
       "</div>"
      ],
      "text/plain": [
       "   Unnamed: 0                   id    created_at                 date  \\\n",
       "0  0           1353913978834051073  1.611633e+12  2021-01-26 03:53:41   \n",
       "1  1           1353709940901371904  1.611585e+12  2021-01-25 14:22:55   \n",
       "2  2           1353470988319653888  1.611528e+12  2021-01-24 22:33:24   \n",
       "3  3           1353426146621235201  1.611517e+12  2021-01-24 19:35:13   \n",
       "4  4           1353417040816713729  1.611515e+12  2021-01-24 18:59:02   \n",
       "\n",
       "               user_id           name  retweet  nlikes  nreplies  nretweets  \\\n",
       "0  177757484            NOHY✨ البراقة  False    0       1         0           \n",
       "1  1280687902364745731  B..            False    2       2         0           \n",
       "2  2569667586           A&....         False    0       1         0           \n",
       "3  584766522            a7sas asmar    False    0       1         0           \n",
       "4  408119559            Rehab. 👩🏻‍💻    False    0       1         0           \n",
       "\n",
       "                                                                                                                                                                                                                                        tweet4  \n",
       "0  سحبتو مني مبلغ لشحن رصيد طريق ماي اس سي تواصلت معاهم قالو تتواصلي البنك وانا ابغى المبلغ يرجع                                                                                                                                                \n",
       "1  اذا رقمك شغال وعندك نسخه واتس اب السحابه بالواتس يقدر يسترحع المحادثات عشان النسخه-يقدر يشوف الارقام طريق ماي اس سي قعدتي فالافضل انه مو باسمه ونزله تطالبين برقم انه يصير تحت اسمك قبل يملكه شخص اخر ودايما الشي الخاص فيك يكون باسمك افضل  \n",
       "2  اشتراك stc للمنصه روح ل stc واسالهم طريقته الاتّصالات السّعوديّة STC ريالاً سعوديّاًثلاثة أشهريتمّ الاشتراك الحزمة عبر تطبيق ماي اس سي                                                                                                       \n",
       "3  شوي وأحد يمنشني الله يسعدكم شكلي الليله مداوم موظف اس سي ارد العملاء 😂😂 حملي ماي اس سي وشوفي وش المشكله ممكن تبين معك                                                                                                                        \n",
       "4  اقدر اطلع بدل فاقد تطبيق ماي اس سي                                                                                                                                                                                                           "
      ]
     },
     "execution_count": 5,
     "metadata": {},
     "output_type": "execute_result"
    }
   ],
   "source": [
    "df.head()"
   ]
  },
  {
   "cell_type": "code",
   "execution_count": 6,
   "metadata": {},
   "outputs": [],
   "source": [
    "columns_to_drop = ['Unnamed: 0', 'id','created_at','date','user_id','name','retweet','nlikes','nreplies','nretweets']\n",
    "df = df.drop(columns_to_drop, axis=1)"
   ]
  },
  {
   "cell_type": "code",
   "execution_count": 7,
   "metadata": {},
   "outputs": [],
   "source": [
    "df['Label'] = [None] * len(df)\n",
    "df = df.rename(columns={'tweet4': 'Tweet'})\n",
    "df.loc[0, 'Label'] = 'positive'"
   ]
  },
  {
   "cell_type": "code",
   "execution_count": 8,
   "metadata": {},
   "outputs": [
    {
     "data": {
      "text/html": [
       "<div>\n",
       "<style scoped>\n",
       "    .dataframe tbody tr th:only-of-type {\n",
       "        vertical-align: middle;\n",
       "    }\n",
       "\n",
       "    .dataframe tbody tr th {\n",
       "        vertical-align: top;\n",
       "    }\n",
       "\n",
       "    .dataframe thead th {\n",
       "        text-align: right;\n",
       "    }\n",
       "</style>\n",
       "<table border=\"1\" class=\"dataframe\">\n",
       "  <thead>\n",
       "    <tr style=\"text-align: right;\">\n",
       "      <th></th>\n",
       "      <th>Tweet</th>\n",
       "      <th>Label</th>\n",
       "    </tr>\n",
       "  </thead>\n",
       "  <tbody>\n",
       "    <tr>\n",
       "      <th>0</th>\n",
       "      <td>سحبتو مني مبلغ لشحن رصيد طريق ماي اس سي تواصلت معاهم قالو تتواصلي البنك وانا ابغى المبلغ يرجع</td>\n",
       "      <td>positive</td>\n",
       "    </tr>\n",
       "    <tr>\n",
       "      <th>1</th>\n",
       "      <td>اذا رقمك شغال وعندك نسخه واتس اب السحابه بالواتس يقدر يسترحع المحادثات عشان النسخه-يقدر يشوف الارقام طريق ماي اس سي قعدتي فالافضل انه مو باسمه ونزله تطالبين برقم انه يصير تحت اسمك قبل يملكه شخص اخر ودايما الشي الخاص فيك يكون باسمك افضل</td>\n",
       "      <td>None</td>\n",
       "    </tr>\n",
       "    <tr>\n",
       "      <th>2</th>\n",
       "      <td>اشتراك stc للمنصه روح ل stc واسالهم طريقته الاتّصالات السّعوديّة STC ريالاً سعوديّاًثلاثة أشهريتمّ الاشتراك الحزمة عبر تطبيق ماي اس سي</td>\n",
       "      <td>None</td>\n",
       "    </tr>\n",
       "    <tr>\n",
       "      <th>3</th>\n",
       "      <td>شوي وأحد يمنشني الله يسعدكم شكلي الليله مداوم موظف اس سي ارد العملاء 😂😂 حملي ماي اس سي وشوفي وش المشكله ممكن تبين معك</td>\n",
       "      <td>None</td>\n",
       "    </tr>\n",
       "    <tr>\n",
       "      <th>4</th>\n",
       "      <td>اقدر اطلع بدل فاقد تطبيق ماي اس سي</td>\n",
       "      <td>None</td>\n",
       "    </tr>\n",
       "  </tbody>\n",
       "</table>\n",
       "</div>"
      ],
      "text/plain": [
       "                                                                                                                                                                                                                                         Tweet  \\\n",
       "0  سحبتو مني مبلغ لشحن رصيد طريق ماي اس سي تواصلت معاهم قالو تتواصلي البنك وانا ابغى المبلغ يرجع                                                                                                                                                 \n",
       "1  اذا رقمك شغال وعندك نسخه واتس اب السحابه بالواتس يقدر يسترحع المحادثات عشان النسخه-يقدر يشوف الارقام طريق ماي اس سي قعدتي فالافضل انه مو باسمه ونزله تطالبين برقم انه يصير تحت اسمك قبل يملكه شخص اخر ودايما الشي الخاص فيك يكون باسمك افضل   \n",
       "2  اشتراك stc للمنصه روح ل stc واسالهم طريقته الاتّصالات السّعوديّة STC ريالاً سعوديّاًثلاثة أشهريتمّ الاشتراك الحزمة عبر تطبيق ماي اس سي                                                                                                        \n",
       "3  شوي وأحد يمنشني الله يسعدكم شكلي الليله مداوم موظف اس سي ارد العملاء 😂😂 حملي ماي اس سي وشوفي وش المشكله ممكن تبين معك                                                                                                                         \n",
       "4  اقدر اطلع بدل فاقد تطبيق ماي اس سي                                                                                                                                                                                                            \n",
       "\n",
       "      Label  \n",
       "0  positive  \n",
       "1  None      \n",
       "2  None      \n",
       "3  None      \n",
       "4  None      "
      ]
     },
     "execution_count": 8,
     "metadata": {},
     "output_type": "execute_result"
    }
   ],
   "source": [
    "df.head(5)"
   ]
  },
  {
   "cell_type": "code",
   "execution_count": 9,
   "metadata": {},
   "outputs": [],
   "source": [
    "df.to_csv('modified.csv', index=False)"
   ]
  }
 ],
 "metadata": {
  "kernelspec": {
   "display_name": "Python 3",
   "language": "python",
   "name": "python3"
  },
  "language_info": {
   "codemirror_mode": {
    "name": "ipython",
    "version": 3
   },
   "file_extension": ".py",
   "mimetype": "text/x-python",
   "name": "python",
   "nbconvert_exporter": "python",
   "pygments_lexer": "ipython3",
   "version": "3.11.6"
  }
 },
 "nbformat": 4,
 "nbformat_minor": 2
}
